{
  "nbformat": 4,
  "nbformat_minor": 0,
  "metadata": {
    "colab": {
      "name": "1. 基礎 Colab ＆ 基礎 Python.ipynb",
      "provenance": [],
      "collapsed_sections": [
        "WXuSYhrIxDL9",
        "S96o4QXvlVqL",
        "RdWTspMvpq7E",
        "MtniENie3KC8",
        "UBFogvxjnkJI",
        "9-teQ7HQ5CBU",
        "UHMq6i_W3GLH",
        "0BvPWggi5WQI",
        "9tM21Y0XH1_4",
        "wvcc0evt4kPW",
        "n2c8JxfAhQ_9"
      ],
      "include_colab_link": true
    },
    "kernelspec": {
      "name": "python3",
      "display_name": "Python 3"
    }
  },
  "cells": [
    {
      "cell_type": "markdown",
      "metadata": {
        "id": "view-in-github",
        "colab_type": "text"
      },
      "source": [
        "<a href=\"https://colab.research.google.com/github/lindsayrain/aia_handy_machine_learning/blob/main/1_%E5%9F%BA%E7%A4%8E_Colab_%EF%BC%86_%E5%9F%BA%E7%A4%8E_Python.ipynb\" target=\"_parent\"><img src=\"https://colab.research.google.com/assets/colab-badge.svg\" alt=\"Open In Colab\"/></a>"
      ]
    },
    {
      "cell_type": "markdown",
      "metadata": {
        "id": "WXuSYhrIxDL9"
      },
      "source": [
        "# 這次上課主題\n",
        "* 唾手可得的機器學習(python)\n",
        "* 手把手機器學習案例與實作(No-code)"
      ]
    },
    {
      "cell_type": "markdown",
      "metadata": {
        "id": "WLGSnQNMDUhA"
      },
      "source": [
        "# 上次上課主題\n",
        "* Colab 基礎操作\n",
        "* Python 基礎語法"
      ]
    },
    {
      "cell_type": "markdown",
      "metadata": {
        "id": "nAcRCA-xA4n8"
      },
      "source": [
        "# 前置動作\n",
        "1. 下載 [Chrome](https://www.google.com/chrome/?brand=BNSD&gclid=Cj0KCQjw6NmHBhD2ARIsAI3hrM15JMUVsgpytyVx1Jdvsqf5xmGyQQpgh6VcvU4dL3VOrfeQqS_8-DwaAhdMEALw_wcB&gclsrc=aw.ds)，並使用Chrome開啟此份Colab檔案<br>\n",
        "![chrome Icon](https://www.google.com/chrome/static/images/chrome-logo.svg)<br>\n",
        "2.登入/創建 Google 帳號<br>\n",
        "按鈕位於 Colab 畫面右上角<br>\n",
        "<img src=\"https://imgur.com/boFbUdw.png\" alt=\"Login\" width=\"300\"><br>\n",
        "若已經出現下圖者則可跳過此步驟<br>\n",
        "<img src=\"https://imgur.com/JeTrboy.png\" alt=\"After Login\" width=\"300\"><br>\n",
        "3. 建立副本至個人目錄，否則不能存檔<br>\n",
        "<img src=\"https://imgur.com/s9ZxqDo.png\" alt=\"Make Copy\" width=\"300\"><br>\n",
        "4. (可不做)設定執行階段類型<br>\n",
        "<img src=\"https://imgur.com/Ejl9Aju.png\" alt=\"change instance 1\" width=\"400\"><br>\n",
        "<img src=\"https://imgur.com/DwuPwbd.png\" alt=\"change instance 2\" width=\"400\"><br>\n",
        "  * ```None``` 這份記事本\n",
        "  * ```GPU, TPU```如果使用深度學習套件，推薦使用"
      ]
    },
    {
      "cell_type": "markdown",
      "metadata": {
        "id": "1Ni35669A_8t"
      },
      "source": [
        "# 希望你至少記得\n",
        "1. Shift+Enter\n",
        "2. Print\n",
        "3. import xxx as xxx"
      ]
    },
    {
      "cell_type": "markdown",
      "metadata": {
        "id": "D6Sd3ZLeBBHs"
      },
      "source": [
        "# 我們再帶過一次\n",
        "1. Colab 基礎操作練習\n",
        "2. 載入套件"
      ]
    },
    {
      "cell_type": "markdown",
      "metadata": {
        "id": "A7wMspDzXRnS"
      },
      "source": [
        "# Colab 基礎操作練習"
      ]
    },
    {
      "cell_type": "markdown",
      "metadata": {
        "id": "LZKNniuuXt3c"
      },
      "source": [
        "## 練習1\n",
        "執行下方程式碼"
      ]
    },
    {
      "cell_type": "code",
      "metadata": {
        "id": "62COnaSwX51B",
        "colab": {
          "base_uri": "https://localhost:8080/"
        },
        "outputId": "83fb513f-7335-4ddf-da6b-107c91efd779"
      },
      "source": [
        "# 練習1:執行這段程式碼\n",
        "import datetime\n",
        "print(\"現在的格林威治時間:\")\n",
        "print(datetime.datetime.now())"
      ],
      "execution_count": 1,
      "outputs": [
        {
          "output_type": "stream",
          "name": "stdout",
          "text": [
            "現在的格林威治時間:\n",
            "2021-11-20 01:46:36.106637\n"
          ]
        }
      ]
    },
    {
      "cell_type": "markdown",
      "metadata": {
        "id": "waIccx6VXZRn"
      },
      "source": [
        "## 練習2\n",
        "刪除下方cell"
      ]
    },
    {
      "cell_type": "code",
      "metadata": {
        "id": "kwmGqEs9Wba6"
      },
      "source": [
        ""
      ],
      "execution_count": null,
      "outputs": []
    },
    {
      "cell_type": "markdown",
      "metadata": {
        "id": "FJ20vjBTDNBm"
      },
      "source": [
        "cell"
      ]
    },
    {
      "cell_type": "markdown",
      "metadata": {
        "id": "q-Um81fiUDag"
      },
      "source": [
        "# Python 基礎語法\n",
        "Python 是一個非常容易入門的程式語言。<br>\n",
        "擁有大量的使用者<br>\n",
        "非常多樣化的套件<br>\n",
        "大部分的深度學習套件都支援 Python。<br>\n",
        "\n",
        "一般程式的理解分為兩個部分：\n",
        "1. 資料結構：變數儲存形式\n",
        "2. Work flow: 控制執行流程"
      ]
    },
    {
      "cell_type": "markdown",
      "metadata": {
        "id": "S96o4QXvlVqL"
      },
      "source": [
        "## Print \"Hello World\"\n",
        "在 python 中，要印出文字、變數等，可以直接用函數\n",
        "<font size=6 color=red><b>print</b></font>\n",
        "來達成。<br>\n"
      ]
    },
    {
      "cell_type": "code",
      "metadata": {
        "id": "E3bQzO6-rPb_",
        "colab": {
          "base_uri": "https://localhost:8080/"
        },
        "outputId": "00489db8-a082-4840-aebe-1c72ce70edd4"
      },
      "source": [
        "print(\"Hello World!\")"
      ],
      "execution_count": null,
      "outputs": [
        {
          "output_type": "stream",
          "text": [
            "Hello World!\n"
          ],
          "name": "stdout"
        }
      ]
    },
    {
      "cell_type": "markdown",
      "metadata": {
        "id": "pukyy9NZ-jc0"
      },
      "source": [
        "## 指定變數值 & 基本變數類型\n",
        "<br>變數名稱會在\"=\"左邊\n",
        "<br>\"=\"右邊是變數被指定的值\n",
        "<br>最基本變數\"值\"包含數字和文字\n",
        "<br>變數指定完後會存在平台上，關閉前都可重複使用\n",
        "<br>若想確認變數的值可以用print(變數名稱)"
      ]
    },
    {
      "cell_type": "code",
      "metadata": {
        "id": "95ICK7iUDiZ_",
        "colab": {
          "base_uri": "https://localhost:8080/"
        },
        "outputId": "58e994dd-2acb-450c-ac9e-0a3d6854771a"
      },
      "source": [
        "# 文字\n",
        "word = 'Hello'\n",
        "print(word)\n",
        "MyId = \"091999\" # 字串為用兩個雙引號包住的文字\n",
        "print(\"我的學號是\", MyId)"
      ],
      "execution_count": null,
      "outputs": [
        {
          "output_type": "stream",
          "text": [
            "Hello\n",
            "我的學號是 091999\n"
          ],
          "name": "stdout"
        }
      ]
    },
    {
      "cell_type": "code",
      "metadata": {
        "id": "ihae16N3UKYW",
        "colab": {
          "base_uri": "https://localhost:8080/"
        },
        "outputId": "f2c58e2a-24ed-4e99-c2a6-a6fff39808c5"
      },
      "source": [
        "# 數字\n",
        "num1=10.2\n",
        "print(num1)\n",
        "num2=1+1"
      ],
      "execution_count": null,
      "outputs": [
        {
          "output_type": "stream",
          "text": [
            "10.2\n",
            "2\n"
          ],
          "name": "stdout"
        }
      ]
    },
    {
      "cell_type": "code",
      "metadata": {
        "id": "K9qiR-fEBJWZ"
      },
      "source": [
        "print(num2)"
      ],
      "execution_count": null,
      "outputs": []
    },
    {
      "cell_type": "markdown",
      "metadata": {
        "id": "RdWTspMvpq7E"
      },
      "source": [
        "## 基本運算\n",
        "加、減、乘、除、餘數、商數、次方"
      ]
    },
    {
      "cell_type": "code",
      "metadata": {
        "id": "IPeXA2u-pqQ7",
        "colab": {
          "base_uri": "https://localhost:8080/"
        },
        "outputId": "d0896b42-eb47-4c68-a24c-91381cebb0e1"
      },
      "source": [
        "a = 7\n",
        "b = 3\n",
        "print(\"a    : \", a)\n",
        "print(\"b    : \", b)\n",
        "print(\"a+b  : \", a+b)  # 加法\n",
        "print(\"a-b  : \", a-b)  # 減法\n",
        "print(\"a*b  : \", a*b)  # 乘法\n",
        "print(\"a/b  : \", a/b)  # 除法\n",
        "print(\"a%b  : \", a%b)  # 取餘數\n",
        "print(\"a//b : \", a//b) # 取商數\n",
        "print(\"a**b : \", a**b) # 取次方"
      ],
      "execution_count": null,
      "outputs": [
        {
          "output_type": "stream",
          "text": [
            "a    :  7\n",
            "b    :  3\n",
            "a+b  :  10\n",
            "a-b  :  4\n",
            "a*b  :  21\n",
            "a/b  :  2.3333333333333335\n",
            "a%b  :  1\n",
            "a//b :  2\n",
            "a**b :  343\n"
          ],
          "name": "stdout"
        }
      ]
    },
    {
      "cell_type": "markdown",
      "metadata": {
        "id": "MtniENie3KC8"
      },
      "source": [
        "## 判斷式\n",
        "大於、小於、等於、不等於"
      ]
    },
    {
      "cell_type": "code",
      "metadata": {
        "id": "f5dnZJJ13nBE",
        "colab": {
          "base_uri": "https://localhost:8080/"
        },
        "outputId": "81806a52-0707-499d-b44f-d7aae4fbcce6"
      },
      "source": [
        "\n",
        "print(\"a    : \", a)\n",
        "print(\"b    : \", b)\n",
        "print(\"a==b : \", a>b) # 等於\n",
        "print(\"a<b  : \", a<b)  # 小於\n",
        "print(\"a==b : \", a==b) # 等於\n",
        "print(\"a!=b : \", a!=b) # 不等於"
      ],
      "execution_count": null,
      "outputs": [
        {
          "output_type": "stream",
          "text": [
            "a    :  7\n",
            "b    :  3\n",
            "a==b :  True\n",
            "a<b  :  False\n",
            "a==b :  False\n",
            "a!=b :  True\n"
          ],
          "name": "stdout"
        }
      ]
    },
    {
      "cell_type": "markdown",
      "metadata": {
        "id": "UBFogvxjnkJI"
      },
      "source": [
        "## 陣列 (list)\n",
        "由方括弧、逗點組成的有順序性的資料<br>\n",
        "其中編號是從 0 開始<br>\n",
        "也可以用負的編號 (-1, -2, -3, ...) 由最後方開始取值。<br>"
      ]
    },
    {
      "cell_type": "code",
      "metadata": {
        "colab": {
          "base_uri": "https://localhost:8080/"
        },
        "id": "9aC07pdF5C6-",
        "outputId": "a00df43f-b35f-4cc2-ad9b-361274ecf4d1"
      },
      "source": [
        "list1 = [2,0,2,0,\"A\",\"I\",\"A\"]\n",
        "print(list1)\n",
        "print(list1[0])\n",
        "print(list1[-1])"
      ],
      "execution_count": null,
      "outputs": [
        {
          "output_type": "stream",
          "text": [
            "[2, 0, 2, 0, 'A', 'I', 'A']\n",
            "2\n",
            "A\n"
          ],
          "name": "stdout"
        }
      ]
    },
    {
      "cell_type": "markdown",
      "metadata": {
        "id": "9-teQ7HQ5CBU"
      },
      "source": [
        "### Advanced code"
      ]
    },
    {
      "cell_type": "code",
      "metadata": {
        "id": "EQs6QaVclRUO",
        "colab": {
          "base_uri": "https://localhost:8080/"
        },
        "outputId": "22462ea2-780b-4b46-d617-0698168a7cab"
      },
      "source": [
        "list1 = [0, 1, 2, 3, \"IV\", \"這裡是五\", \"六\"]\n",
        "#     0, 1, 2, 3,   4 ,   5 ,  6  對應編號\n",
        "#     -7,-6, -5,-4,  -3 ,   -2 , -1  \n",
        "\n",
        "print(\"list1    :\", list1)\n",
        "\n",
        "# 取值\n",
        "print(\"取值\")\n",
        "print(\"list1[ 0]:\", list1[0])\n",
        "print(\"list1[ 4]:\", list1[4])\n",
        "print(\"list1[ 6]:\", list1[6])\n",
        "print(\"list1[-2]:\", list1[-2])\n",
        "print(\"list1[-4]:\", list1[-4])"
      ],
      "execution_count": null,
      "outputs": [
        {
          "output_type": "stream",
          "text": [
            "list1    : [0, 1, 2, 3, 'IV', '這裡是五', '六']\n",
            "取值\n",
            "list1[ 0]: 0\n",
            "list1[ 4]: IV\n",
            "list1[ 6]: 六\n",
            "list1[-2]: 這裡是五\n",
            "list1[-4]: 3\n"
          ],
          "name": "stdout"
        }
      ]
    },
    {
      "cell_type": "markdown",
      "metadata": {
        "id": "zB8x8z-SBf6i"
      },
      "source": [
        "# Workflow 控制"
      ]
    },
    {
      "cell_type": "markdown",
      "metadata": {
        "id": "UHMq6i_W3GLH"
      },
      "source": [
        "## 迴圈(for loop)\n",
        "當我們需要重複執行多次時可使用for迴圈。\n",
        "將同樣步驟以固定次數執行"
      ]
    },
    {
      "cell_type": "code",
      "metadata": {
        "colab": {
          "base_uri": "https://localhost:8080/"
        },
        "id": "jgHQwJmY3jht",
        "outputId": "6c7ae233-4415-464c-9cae-527ef9e992ca"
      },
      "source": [
        "# For迴圈需指定迴圈次數\n",
        "for number in range(3): #迴圈3次\n",
        "  print(\"*\")"
      ],
      "execution_count": null,
      "outputs": [
        {
          "output_type": "stream",
          "text": [
            "*\n",
            "*\n",
            "*\n"
          ],
          "name": "stdout"
        }
      ]
    },
    {
      "cell_type": "markdown",
      "metadata": {
        "id": "0BvPWggi5WQI"
      },
      "source": [
        "### Advanced code"
      ]
    },
    {
      "cell_type": "code",
      "metadata": {
        "colab": {
          "base_uri": "https://localhost:8080/"
        },
        "id": "K--H_0tm5VWI",
        "outputId": "b38c9429-da86-41c1-87fb-2ae7d6855b98"
      },
      "source": [
        "# For迴圈需指定迴圈次數，每次回圈依照次數使用不同變數\n",
        "for number in range(3): #自0~2 迴圈3次\n",
        "  print(number,\"*\")\n",
        "# For迴圈也可以一一列舉list中內容\n",
        "for content in list1:\n",
        "  print(content)"
      ],
      "execution_count": null,
      "outputs": [
        {
          "output_type": "stream",
          "text": [
            "0 *\n",
            "1 *\n",
            "2 *\n",
            "0\n",
            "1\n",
            "2\n",
            "3\n",
            "IV\n",
            "這裡是五\n",
            "六\n"
          ],
          "name": "stdout"
        }
      ]
    },
    {
      "cell_type": "markdown",
      "metadata": {
        "id": "9tM21Y0XH1_4"
      },
      "source": [
        "## 條件式 (if else)\n",
        "\n",
        "當我們需要進行多個條件的判斷的時候就可以用if else語法判斷\n",
        "\n",
        "如果達成了某個條件就會進行以下動作，不然則會執行另外一個動作。"
      ]
    },
    {
      "cell_type": "code",
      "metadata": {
        "id": "MKCwZaTpIiXw",
        "colab": {
          "base_uri": "https://localhost:8080/"
        },
        "outputId": "f55b5131-1c37-4f69-e462-9c06ee2adfd7"
      },
      "source": [
        "# 條件判斷在if後面加上條件\n",
        "score = 90 # 假設你考了90分\n",
        "if score >= 60: # 條件判斷式以 if 做開頭，程式設定大於或等於60分就print及格相關文字\n",
        "  print(\"you passed!\")\n",
        "else: # 最後用 else 結尾，前面的條件都沒成立的話，就會進到這邊\n",
        "  print(\"you failed!\")"
      ],
      "execution_count": null,
      "outputs": [
        {
          "output_type": "stream",
          "text": [
            "you passed!\n"
          ],
          "name": "stdout"
        }
      ]
    },
    {
      "cell_type": "markdown",
      "metadata": {
        "id": "wvcc0evt4kPW"
      },
      "source": [
        "### Advanced Code"
      ]
    },
    {
      "cell_type": "code",
      "metadata": {
        "id": "5vOTi0R84fQ9"
      },
      "source": [
        "# 條件判斷可以用 and 或 or 來判斷多個條件，使用elif來增加更多額外條件\n",
        "score = 90\n",
        "if(score >= 60 and score < 70): # 條件判斷式以 if 做開頭\n",
        "  print(\"you are C!\")\n",
        "elif(score >= 70 and score < 80): # if 後面的條件都用 elif \n",
        "  print(\"you are B!\")\n",
        "elif(score >= 80 and score < 90):\n",
        "  print(\"you are A!\")\n",
        "elif(score >= 90 and score <= 100):\n",
        "  print(\"you are S!\")\n",
        "else: # 最後用 else 結尾，前面的條件都沒成立的話，就會進到這邊\n",
        "  print(\"you are fail!\")"
      ],
      "execution_count": null,
      "outputs": []
    },
    {
      "cell_type": "markdown",
      "metadata": {
        "id": "n2c8JxfAhQ_9"
      },
      "source": [
        "## 函數\n",
        "在撰寫程式時，會把常用到的程式碼打包成一個函數，就像標準化成一個SOP一樣，以利後續使用。<br>"
      ]
    },
    {
      "cell_type": "code",
      "metadata": {
        "id": "VNpjaGsFRagL",
        "colab": {
          "base_uri": "https://localhost:8080/"
        },
        "outputId": "4f5b8b8b-f0c2-48d9-f7cb-93ba66d4613a"
      },
      "source": [
        "def BMI(height, weight):\n",
        "  return weight/(height/100)**2\n",
        "\n",
        "print(\"BMI(170, 80):\", BMI(170, 80))\n",
        "print(\"BMI(height=160, weight=50):\", BMI(height=160, weight=50))\n",
        "print(\"BMI(weight=60, height=150):\", BMI(weight=60, height=150))"
      ],
      "execution_count": null,
      "outputs": [
        {
          "output_type": "stream",
          "text": [
            "BMI(170, 80): 27.68166089965398\n",
            "BMI(height=160, weight=50): 19.531249999999996\n",
            "BMI(weight=60, height=150): 26.666666666666668\n"
          ],
          "name": "stdout"
        }
      ]
    },
    {
      "cell_type": "markdown",
      "metadata": {
        "id": "0TG7gDyXrOXs"
      },
      "source": [
        "# 載入套件、基礎畫圖"
      ]
    },
    {
      "cell_type": "markdown",
      "metadata": {
        "id": "U--siqtpB0jM"
      },
      "source": [
        "## 載入套件\n",
        "很多好用的 python 套件已經被寫好了，我們可以將這些套件載入後直接使用。<br>\n",
        "常見的 python 套件如下:<br>\n",
        "* 數值計算 : numpy, scipy\n",
        "* 畫圖工具 : matplotlib, seaborn\n",
        "* 影像處理 : opencv\n",
        "* 機器學習 : sklearn\n",
        "* 音訊處理 : librosa\n",
        "* 深度學習 : tensorflow, pytorch, caffes\n",
        "\n",
        "下面的程式碼會示範如何引入套件，並且使用套件底下的函式。"
      ]
    },
    {
      "cell_type": "code",
      "metadata": {
        "id": "SkDzxXN6rgbb",
        "colab": {
          "base_uri": "https://localhost:8080/"
        },
        "outputId": "6e8ba476-65e8-494e-a820-01b692704e9b"
      },
      "source": [
        "# 導入套件\n",
        "import numpy as np # 數值計算常用的套件\n",
        "\n",
        "# 使用套件底下的函式\n",
        "x = np.linspace(2*np.pi, 6*np.pi, 24) # 將 2π~6π 切成 24 個等分\n",
        "print(x)"
      ],
      "execution_count": 2,
      "outputs": [
        {
          "output_type": "stream",
          "name": "stdout",
          "text": [
            "[ 6.28318531  6.82954925  7.37591319  7.92227713  8.46864107  9.01500501\n",
            "  9.56136895 10.10773289 10.65409683 11.20046076 11.7468247  12.29318864\n",
            " 12.83955258 13.38591652 13.93228046 14.4786444  15.02500834 15.57137228\n",
            " 16.11773622 16.66410016 17.2104641  17.75682804 18.30319198 18.84955592]\n"
          ]
        }
      ]
    },
    {
      "cell_type": "markdown",
      "metadata": {
        "id": "dT5RhDDTmQ5f"
      },
      "source": [
        "## 基礎畫圖\n",
        "有時一串列數字一看下去太混亂可以用畫的畫出來看\n",
        "> * plot : 折線圖 \n",
        "> * scatter : 散佈圖\n",
        "> * hist : 直方圖"
      ]
    },
    {
      "cell_type": "code",
      "metadata": {
        "colab": {
          "base_uri": "https://localhost:8080/",
          "height": 282
        },
        "id": "9JSMlZx28xL0",
        "outputId": "1b4f744a-505e-4d1c-d04b-7071cd33d072"
      },
      "source": [
        "import matplotlib.pyplot as plt # 畫圖常用的套件\n",
        "\n",
        "cosx = np.cos(x) # 計算cos(x)\n",
        "print(\"plt.plot(x,cosx)\")\n",
        "plt.plot(x, cosx)# plot函數第一個項目成現在X軸、第二個項目成現在y 軸\n",
        "plt.show()"
      ],
      "execution_count": null,
      "outputs": [
        {
          "output_type": "stream",
          "text": [
            "plt.plot(x,cosx)\n"
          ],
          "name": "stdout"
        },
        {
          "output_type": "display_data",
          "data": {
            "image/png": "[encoded data removed]",
            "text/plain": [
              "<Figure size 432x288 with 1 Axes>"
            ]
          },
          "metadata": {
            "tags": [],
            "needs_background": "light"
          }
        }
      ]
    },
    {
      "cell_type": "markdown",
      "metadata": {
        "id": "gPs7xbrH8xno"
      },
      "source": [
        "### Advanced Code"
      ]
    },
    {
      "cell_type": "code",
      "metadata": {
        "id": "0Z_xi66qmuOj",
        "colab": {
          "base_uri": "https://localhost:8080/",
          "height": 546
        },
        "outputId": "3c549206-b29f-4f3a-f3a4-46bb1aefc142"
      },
      "source": [
        "import matplotlib.pyplot as plt # 畫圖常用的套件\n",
        "\n",
        "cosx = np.cos(x)\n",
        "sinx = np.sin(x)\n",
        "logx = np.log(x)\n",
        "\n",
        "print(\"plt.plot(x,cosx)\")\n",
        "plt.plot(x, cosx) # 折線圖\n",
        "plt.show()\n",
        "\n",
        "print(\"plt.scatter(x,sinx, color='red')\")\n",
        "plt.scatter(x, sinx, color='red')# 散布圖可指定顏色\n",
        "plt.show()"
      ],
      "execution_count": null,
      "outputs": [
        {
          "output_type": "stream",
          "text": [
            "plt.plot(x,cosx)\n"
          ],
          "name": "stdout"
        },
        {
          "output_type": "display_data",
          "data": {
            "image/png": "[encoded data removed]",
            "text/plain": [
              "<Figure size 432x288 with 1 Axes>"
            ]
          },
          "metadata": {
            "tags": [],
            "needs_background": "light"
          }
        },
        {
          "output_type": "stream",
          "text": [
            "plt.scatter(x,sinx, color='red')\n"
          ],
          "name": "stdout"
        },
        {
          "output_type": "display_data",
          "data": {
            "image/png": "[encoded data removed]",
            "text/plain": [
              "<Figure size 432x288 with 1 Axes>"
            ]
          },
          "metadata": {
            "tags": [],
            "needs_background": "light"
          }
        }
      ]
    },
    {
      "cell_type": "markdown",
      "metadata": {
        "id": "aVi_HXG3ShCg"
      },
      "source": [
        "# 額外補充\n"
      ]
    },
    {
      "cell_type": "markdown",
      "metadata": {
        "id": "7AEq0FJs-a3N"
      },
      "source": [
        "### Python\n",
        "&emsp;[入門](https://github.com/kdchang/python101/)<br>\n",
        "&emsp;[官方](https://docs.python.org/zh-cn/3/tutorial/index.html)<br>\n",
        "\n",
        "### Numpy\n",
        "&emsp;[入門](https://morvanzhou.github.io/tutorials/data-manipulation/np-pd/)<br>\n",
        "&emsp;[官方](https://numpy.org/devdocs/user/quickstart.html)<br>\n",
        "\n",
        "### Matplotlib\n",
        "&emsp;[入門](https://medium.com/jameslearningnote/%E8%B3%87%E6%96%99%E5%88%86%E6%9E%90-%E6%A9%9F%E5%99%A8%E5%AD%B8%E7%BF%92-%E7%AC%AC2-5%E8%AC%9B-%E8%B3%87%E6%96%99%E8%A6%96%E8%A6%BA%E5%8C%96-matplotlib-seaborn-plotly-75cd353d6d3f)<br>\n",
        "&emsp;[官方](https://matplotlib.org/tutorials/introductory/pyplot.html#sphx-glr-tutorials-introductory-pyplot-py)<br>\n",
        "\n",
        "### Others\n",
        "&emsp;[Paper with code](https://paperswithcode.com/sota) : 最新機器學習論文、程式碼<br>\n",
        "&emsp;[Deep Learning Monitor](https://deeplearn.org/) : 近期比較受矚目的論文彙整<br>\n",
        "&emsp;[kaggle](https://www.kaggle.com/competitions) : 資料科學競賽網站<br>"
      ]
    },
    {
      "cell_type": "code",
      "metadata": {
        "id": "TUGAU4LsTEns"
      },
      "source": [
        ""
      ],
      "execution_count": null,
      "outputs": []
    }
  ]
}